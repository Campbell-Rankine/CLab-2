{
 "cells": [
  {
   "cell_type": "code",
   "execution_count": 1,
   "id": "5168ff2d-00d6-4830-b8b5-0751e668261a",
   "metadata": {},
   "outputs": [],
   "source": [
    "### - Harris Corner Python Notebook - ###\n",
    "import numpy as np\n",
    "import cv2 as cv\n",
    "import matplotlib.pyplot as plt"
   ]
  },
  {
   "cell_type": "code",
   "execution_count": 2,
   "id": "fd7a9dc1-7463-4ec1-8777-5aeee44ccce9",
   "metadata": {},
   "outputs": [],
   "source": [
    "#Given helper functions\n",
    "def conv2(img, conv_filter):\n",
    "    # flip the filter\n",
    "    f_siz_1, f_size_2 = conv_filter.shape\n",
    "    conv_filter = conv_filter[range(f_siz_1 - 1, -1, -1), :][:, range(f_siz_1 - 1, -1, -1)]\n",
    "    pad = (conv_filter.shape[0] - 1) // 2\n",
    "    result = np.zeros((img.shape))\n",
    "    img = np.pad(img, ((pad, pad), (pad, pad)), 'constant', constant_values=(0, 0))\n",
    "    filter_size = conv_filter.shape[0]\n",
    "    for r in np.arange(img.shape[0] - filter_size + 1):\n",
    "        for c in np.arange(img.shape[1] - filter_size + 1):\n",
    "            curr_region = img[r:r + filter_size, c:c + filter_size]\n",
    "            curr_result = curr_region * conv_filter\n",
    "            conv_sum = np.sum(curr_result)  # Summing the result of multiplication.\n",
    "            result[r, c] = conv_sum  # Saving the summation in the convolution layer feature map.\n",
    "\n",
    "    return result\n",
    "\n",
    "\n",
    "def fspecial(shape=(3, 3), sigma=0.5):\n",
    "    m, n = [(ss - 1.) / 2. for ss in shape]\n",
    "    y, x = np.ogrid[-m:m + 1, -n:n + 1]\n",
    "    h = np.exp(-(x * x + y * y) / (2. * sigma * sigma))\n",
    "    h[h < np.finfo(h.dtype).eps * h.max()] = 0\n",
    "    sumh = h.sum()\n",
    "    if sumh != 0:\n",
    "        h /= sumh\n",
    "    return h"
   ]
  },
  {
   "cell_type": "code",
   "execution_count": null,
   "id": "cb0a8f20-265d-40f3-ac3b-3a10347e7064",
   "metadata": {},
   "outputs": [],
   "source": [
    "# Parameters, add more if needed\n",
    "def harris_detect(img): #Inputs(Greyscale image)\n",
    "    sigma = 2\n",
    "    thresh = 0.01\n",
    "\n",
    "    # Derivative masks\n",
    "    dx = np.array([[-1, 0, 1], [-1, 0, 1], [-1, 0, 1]])\n",
    "    dy = dx.transpose()\n",
    "    import matplotlib.pyplot as plt\n",
    "\n",
    "    bw = plt.imread('0.png')\n",
    "    bw = np.array(bw * 255, dtype=int)\n",
    "    # computer x and y derivatives of image\n",
    "    Ix = conv2(bw, dx)\n",
    "    Iy = conv2(bw, dy)\n",
    "\n",
    "    g = fspecial((max(1, np.floor(3 * sigma) * 2 + 1), max(1, np.floor(3 * sigma) * 2 + 1)), sigma)\n",
    "    Iy2 = conv2(np.power(Iy, 2), g)\n",
    "    Ix2 = conv2(np.power(Ix, 2), g)\n",
    "    Ixy = conv2(Ix * Iy, g)"
   ]
  }
 ],
 "metadata": {
  "kernelspec": {
   "display_name": "Python 3 (ipykernel)",
   "language": "python",
   "name": "python3"
  },
  "language_info": {
   "codemirror_mode": {
    "name": "ipython",
    "version": 3
   },
   "file_extension": ".py",
   "mimetype": "text/x-python",
   "name": "python",
   "nbconvert_exporter": "python",
   "pygments_lexer": "ipython3",
   "version": "3.9.7"
  }
 },
 "nbformat": 4,
 "nbformat_minor": 5
}
