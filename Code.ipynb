{
 "cells": [
  {
   "cell_type": "code",
   "execution_count": 1,
   "id": "cc739d8b-40b8-47c2-9ee5-f06dd50da7ae",
   "metadata": {},
   "outputs": [
    {
     "name": "stderr",
     "output_type": "stream",
     "text": [
      "C:\\Users\\campb\\anaconda3\\lib\\site-packages\\torchvision\\io\\image.py:11: UserWarning: Failed to load image Python extension: Could not find module 'C:\\Users\\campb\\anaconda3\\Lib\\site-packages\\torchvision\\image.pyd' (or one of its dependencies). Try using the full path with constructor syntax.\n",
      "  warn(f\"Failed to load image Python extension: {e}\")\n"
     ]
    }
   ],
   "source": [
    "from PIL import Image\n",
    "import numpy as np\n",
    "import glob\n",
    "import cv2 as cv\n",
    "import os\n",
    "import numpy as np\n",
    "import sklearn as sk #general imports, initial data preprocessing/OS stuff\n",
    "import os\n",
    "import torch as T\n",
    "import torch.nn as nn\n",
    "import torch.optim as optim #Neural network imports, multiply data etc\n",
    "from torchvision.transforms import ToTensor\n",
    "import torchvision.models as models\n",
    "import torchvision\n",
    "import torch.nn.functional as F #Neural Network used in Comp4660 at ANU\n",
    "import matplotlib.pyplot as plt\n",
    "import torch.optim as optim\n",
    "from torch.utils.data import DataLoader,Dataset\n",
    "from pathlib import Path\n",
    "from torchvision.datasets import ImageFolder\n",
    "from sklearn.preprocessing import MinMaxScaler #normalize data\n",
    "from sklearn.metrics import confusion_matrix #analysis\n",
    "from torchvision import transforms\n",
    "from random import shuffle\n",
    "import itertools"
   ]
  },
  {
   "cell_type": "code",
   "execution_count": 2,
   "id": "7217330d-48d4-4376-bd3a-8c0b26177e0d",
   "metadata": {},
   "outputs": [],
   "source": [
    "### - GLOBALS - ###\n",
    "\n",
    "DPS = '/Users/campb/Documents/Comp4528/CLab-2/Dataset' #Change for marking my computer just isnt great with paths as im on windows\n",
    "\n",
    "folds = 10\n",
    "\n",
    "device = T.device('cuda:0' if (T.cuda.is_available())  else 'cpu') #Train on device, no parallel gpu"
   ]
  },
  {
   "cell_type": "code",
   "execution_count": 3,
   "id": "a842826b-36af-44e6-8a60-5fd8349c3a82",
   "metadata": {},
   "outputs": [],
   "source": [
    "train_ims = np.load('/Users/campb/Documents/Comp4528/CLab-2/Dataset/kmnist-train-imgs.npz')['arr_0']\n",
    "test_ims = np.load('/Users/campb/Documents/Comp4528/CLab-2/Dataset/kmnist-test-imgs.npz')['arr_0']\n",
    "train_lab = np.load('/Users/campb/Documents/Comp4528/CLab-2/Dataset/kmnist-train-labels.npz')['arr_0']\n",
    "test_lab = np.load('/Users/campb/Documents/Comp4528/CLab-2/Dataset/kmnist-test-labels.npz')['arr_0']\n",
    "val_ims = np.load('/Users/campb/Documents/Comp4528/CLab-2/Dataset/kmnist-val-imgs.npz')['arr_0']\n",
    "val_lab = np.load('/Users/campb/Documents/Comp4528/CLab-2/Dataset/kmnist-val-labels.npz')['arr_0']"
   ]
  },
  {
   "cell_type": "code",
   "execution_count": 4,
   "id": "09999281-3bbe-4c4f-8e2e-68ba9a1f8ad6",
   "metadata": {},
   "outputs": [
    {
     "name": "stdout",
     "output_type": "stream",
     "text": [
      "(59000, 28, 28) (59000,) (10000, 28, 28) (10000,) (1000, 28, 28) (1000,)\n"
     ]
    }
   ],
   "source": [
    "print(train_ims.shape, train_lab.shape, test_ims.shape, test_lab.shape, val_ims.shape, val_lab.shape)"
   ]
  },
  {
   "cell_type": "code",
   "execution_count": 5,
   "id": "deff4942-8244-44e2-aaf0-8bd9b95895c3",
   "metadata": {},
   "outputs": [],
   "source": [
    "#Import as tensors\n",
    "train = T.from_numpy(np.float32(np.concatenate([train_ims,test_ims])))\n",
    "labs = T.from_numpy(np.float32(np.concatenate([train_lab,test_lab])))\n",
    "assert(train.shape[0] == labs.shape[0])\n",
    "val_ims = T.from_numpy(np.float32(val_ims))\n",
    "val_lab = T.from_numpy(np.float32(val_lab))"
   ]
  },
  {
   "cell_type": "code",
   "execution_count": 6,
   "id": "da82f883-f00c-4e8e-b05a-22af42ccc013",
   "metadata": {},
   "outputs": [],
   "source": [
    "#Data augmentation\n",
    "transform = transforms.Compose([\n",
    "            transforms.Normalize((0.), (1.0)),\n",
    "            transforms.RandomHorizontalFlip(0.5),\n",
    "            transforms.RandomCrop(28, 4) #Random crop image with output size 28 and padding set to 4, default padding is 0 padding\n",
    "            ])"
   ]
  },
  {
   "cell_type": "code",
   "execution_count": 7,
   "id": "39b64007-9614-43be-8abb-1cf96c8c9af5",
   "metadata": {},
   "outputs": [],
   "source": [
    "train = transform(train) #apply transform to train images"
   ]
  },
  {
   "cell_type": "code",
   "execution_count": 8,
   "id": "66850dfb-c28d-4050-9337-9b2e34491962",
   "metadata": {},
   "outputs": [],
   "source": [
    "val_ims = transform(val_ims) #apply transform to validation images"
   ]
  },
  {
   "cell_type": "code",
   "execution_count": 9,
   "id": "b25b2b7f-f423-48e0-8f11-10e32a42c03d",
   "metadata": {},
   "outputs": [
    {
     "name": "stdout",
     "output_type": "stream",
     "text": [
      "torch.Size([69000, 28, 28]) torch.Size([69000]) torch.Size([1000, 28, 28]) torch.Size([1000])\n",
      "Sequential(\n",
      "  (0): Conv2d(1, 32, kernel_size=(5, 5), stride=(1, 1), padding=(2, 2))\n",
      "  (1): ReLU()\n",
      "  (2): MaxPool2d(kernel_size=2, stride=2, padding=0, dilation=1, ceil_mode=False)\n",
      "  (3): Conv2d(32, 64, kernel_size=(3, 3), stride=(1, 1), padding=(1, 1))\n",
      "  (4): ReLU()\n",
      "  (5): MaxPool2d(kernel_size=2, stride=2, padding=0, dilation=1, ceil_mode=False)\n",
      "  (6): Flatten(start_dim=1, end_dim=-1)\n",
      "  (7): Linear(in_features=3136, out_features=1024, bias=True)\n",
      "  (8): ReLU()\n",
      "  (9): Linear(in_features=1024, out_features=10, bias=True)\n",
      ")\n"
     ]
    }
   ],
   "source": [
    "print(train.shape, labs.shape, val_ims.shape, val_lab.shape)\n",
    "\n",
    "### - Model Variables - ###\n",
    "lr = 1e-3\n",
    "bs = (0.9, 0.999)\n",
    "\n",
    "LabNet= nn.Sequential(\n",
    "    nn.Conv2d(1, 32, kernel_size=5, stride=1, padding=2),\n",
    "    nn.ReLU(), #First layer\n",
    "    nn.MaxPool2d(kernel_size=2, stride=2),\n",
    "    nn.Conv2d(32, 64, kernel_size=3, stride=1, padding=1),\n",
    "    nn.ReLU(), #Second layer\n",
    "    nn.MaxPool2d(kernel_size=2, stride=2),\n",
    "    nn.Flatten(),\n",
    "    nn.Linear(7*7*64, 1024), #Filter size 64, and we downsample 2x twice so 28/4\n",
    "    nn.ReLU(),\n",
    "    nn.Linear(1024,10)\n",
    ")\n",
    "\n",
    "print(LabNet)"
   ]
  },
  {
   "cell_type": "code",
   "execution_count": 10,
   "id": "d46377fc-f3d8-4037-8834-da44dfa9e7e5",
   "metadata": {},
   "outputs": [],
   "source": [
    "loss = nn.CrossEntropyLoss()\n",
    "optimizer = optim.Adam(LabNet.parameters(), lr = lr, betas=bs)"
   ]
  },
  {
   "cell_type": "code",
   "execution_count": 11,
   "id": "ceba3646-fc08-4aa4-849e-dd0f38050755",
   "metadata": {},
   "outputs": [],
   "source": [
    "epochs = 10\n",
    "\n",
    "#Loss and Accuracy Methods Only need train\n",
    "all_tloss_e = []\n",
    "all_tacc_e = []\n",
    "\n",
    "#Setup k-Fold\n",
    "d = list(range(train.shape[0]))\n",
    "shuffle(d) #Data is shuffled\n",
    "d = np.array_split(d, folds)"
   ]
  },
  {
   "cell_type": "code",
   "execution_count": 38,
   "id": "b3760fca-5733-4577-8f12-7ec7c55a9db9",
   "metadata": {},
   "outputs": [
    {
     "name": "stdout",
     "output_type": "stream",
     "text": [
      "8\n",
      "8\n",
      "8\n",
      "8\n",
      "8\n",
      "8\n",
      "8\n",
      "6\n",
      "6\n",
      "9\n",
      "9\n",
      "3\n",
      "3\n",
      "5\n",
      "5\n",
      "2\n",
      "2\n",
      "4\n",
      "4\n",
      "4\n",
      "2\n",
      "4\n",
      "2\n",
      "1\n",
      "4\n",
      "2\n",
      "1\n",
      "4\n",
      "1\n",
      "2\n",
      "4\n",
      "1\n",
      "1\n",
      "1\n",
      "1\n",
      "1\n",
      "1\n",
      "1\n",
      "1\n",
      "1\n",
      "0\n",
      "5\n",
      "1\n",
      "1\n",
      "2\n",
      "4\n",
      "1\n",
      "1\n",
      "4\n",
      "4\n",
      "5\n",
      "6\n",
      "1\n",
      "6\n",
      "4\n",
      "9\n",
      "4\n",
      "4\n",
      "4\n",
      "4\n",
      "4\n",
      "2\n"
     ]
    },
    {
     "ename": "KeyboardInterrupt",
     "evalue": "",
     "output_type": "error",
     "traceback": [
      "\u001b[1;31m---------------------------------------------------------------------------\u001b[0m",
      "\u001b[1;31mKeyboardInterrupt\u001b[0m                         Traceback (most recent call last)",
      "\u001b[1;32m~\\AppData\\Local\\Temp/ipykernel_7444/508326037.py\u001b[0m in \u001b[0;36m<module>\u001b[1;34m\u001b[0m\n\u001b[0;32m     27\u001b[0m             \u001b[0mloss_i\u001b[0m\u001b[1;33m.\u001b[0m\u001b[0mbackward\u001b[0m\u001b[1;33m(\u001b[0m\u001b[1;33m)\u001b[0m\u001b[1;33m\u001b[0m\u001b[1;33m\u001b[0m\u001b[0m\n\u001b[0;32m     28\u001b[0m \u001b[1;33m\u001b[0m\u001b[0m\n\u001b[1;32m---> 29\u001b[1;33m             \u001b[0moptimizer\u001b[0m\u001b[1;33m.\u001b[0m\u001b[0mstep\u001b[0m\u001b[1;33m(\u001b[0m\u001b[1;33m)\u001b[0m\u001b[1;33m\u001b[0m\u001b[1;33m\u001b[0m\u001b[0m\n\u001b[0m\u001b[0;32m     30\u001b[0m \u001b[1;33m\u001b[0m\u001b[0m\n\u001b[0;32m     31\u001b[0m             \u001b[1;31m#check if correct\u001b[0m\u001b[1;33m\u001b[0m\u001b[1;33m\u001b[0m\u001b[0m\n",
      "\u001b[1;32m~\\anaconda3\\lib\\site-packages\\torch\\optim\\optimizer.py\u001b[0m in \u001b[0;36mwrapper\u001b[1;34m(*args, **kwargs)\u001b[0m\n\u001b[0;32m     86\u001b[0m                 \u001b[0mprofile_name\u001b[0m \u001b[1;33m=\u001b[0m \u001b[1;34m\"Optimizer.step#{}.step\"\u001b[0m\u001b[1;33m.\u001b[0m\u001b[0mformat\u001b[0m\u001b[1;33m(\u001b[0m\u001b[0mobj\u001b[0m\u001b[1;33m.\u001b[0m\u001b[0m__class__\u001b[0m\u001b[1;33m.\u001b[0m\u001b[0m__name__\u001b[0m\u001b[1;33m)\u001b[0m\u001b[1;33m\u001b[0m\u001b[1;33m\u001b[0m\u001b[0m\n\u001b[0;32m     87\u001b[0m                 \u001b[1;32mwith\u001b[0m \u001b[0mtorch\u001b[0m\u001b[1;33m.\u001b[0m\u001b[0mautograd\u001b[0m\u001b[1;33m.\u001b[0m\u001b[0mprofiler\u001b[0m\u001b[1;33m.\u001b[0m\u001b[0mrecord_function\u001b[0m\u001b[1;33m(\u001b[0m\u001b[0mprofile_name\u001b[0m\u001b[1;33m)\u001b[0m\u001b[1;33m:\u001b[0m\u001b[1;33m\u001b[0m\u001b[1;33m\u001b[0m\u001b[0m\n\u001b[1;32m---> 88\u001b[1;33m                     \u001b[1;32mreturn\u001b[0m \u001b[0mfunc\u001b[0m\u001b[1;33m(\u001b[0m\u001b[1;33m*\u001b[0m\u001b[0margs\u001b[0m\u001b[1;33m,\u001b[0m \u001b[1;33m**\u001b[0m\u001b[0mkwargs\u001b[0m\u001b[1;33m)\u001b[0m\u001b[1;33m\u001b[0m\u001b[1;33m\u001b[0m\u001b[0m\n\u001b[0m\u001b[0;32m     89\u001b[0m             \u001b[1;32mreturn\u001b[0m \u001b[0mwrapper\u001b[0m\u001b[1;33m\u001b[0m\u001b[1;33m\u001b[0m\u001b[0m\n\u001b[0;32m     90\u001b[0m \u001b[1;33m\u001b[0m\u001b[0m\n",
      "\u001b[1;32m~\\anaconda3\\lib\\site-packages\\torch\\autograd\\profiler.py\u001b[0m in \u001b[0;36m__exit__\u001b[1;34m(self, exc_type, exc_value, traceback)\u001b[0m\n\u001b[0;32m    438\u001b[0m     \u001b[1;32mdef\u001b[0m \u001b[0m__exit__\u001b[0m\u001b[1;33m(\u001b[0m\u001b[0mself\u001b[0m\u001b[1;33m,\u001b[0m \u001b[0mexc_type\u001b[0m\u001b[1;33m:\u001b[0m \u001b[0mAny\u001b[0m\u001b[1;33m,\u001b[0m \u001b[0mexc_value\u001b[0m\u001b[1;33m:\u001b[0m \u001b[0mAny\u001b[0m\u001b[1;33m,\u001b[0m \u001b[0mtraceback\u001b[0m\u001b[1;33m:\u001b[0m \u001b[0mAny\u001b[0m\u001b[1;33m)\u001b[0m\u001b[1;33m:\u001b[0m\u001b[1;33m\u001b[0m\u001b[1;33m\u001b[0m\u001b[0m\n\u001b[0;32m    439\u001b[0m         \u001b[1;32mif\u001b[0m \u001b[0mself\u001b[0m\u001b[1;33m.\u001b[0m\u001b[0mrun_callbacks_on_exit\u001b[0m\u001b[1;33m:\u001b[0m\u001b[1;33m\u001b[0m\u001b[1;33m\u001b[0m\u001b[0m\n\u001b[1;32m--> 440\u001b[1;33m             \u001b[0mtorch\u001b[0m\u001b[1;33m.\u001b[0m\u001b[0mops\u001b[0m\u001b[1;33m.\u001b[0m\u001b[0mprofiler\u001b[0m\u001b[1;33m.\u001b[0m\u001b[0m_record_function_exit\u001b[0m\u001b[1;33m(\u001b[0m\u001b[0mself\u001b[0m\u001b[1;33m.\u001b[0m\u001b[0mhandle\u001b[0m\u001b[1;33m)\u001b[0m\u001b[1;33m\u001b[0m\u001b[1;33m\u001b[0m\u001b[0m\n\u001b[0m\u001b[0;32m    441\u001b[0m \u001b[1;33m\u001b[0m\u001b[0m\n\u001b[0;32m    442\u001b[0m     \u001b[1;32mdef\u001b[0m \u001b[0m_call_end_callbacks_on_future\u001b[0m\u001b[1;33m(\u001b[0m\u001b[0mself\u001b[0m\u001b[1;33m,\u001b[0m \u001b[0mfut\u001b[0m\u001b[1;33m:\u001b[0m \u001b[0mFuture\u001b[0m\u001b[1;33m[\u001b[0m\u001b[0mAny\u001b[0m\u001b[1;33m]\u001b[0m\u001b[1;33m)\u001b[0m \u001b[1;33m->\u001b[0m \u001b[0mFuture\u001b[0m\u001b[1;33m[\u001b[0m\u001b[0mAny\u001b[0m\u001b[1;33m]\u001b[0m\u001b[1;33m:\u001b[0m\u001b[1;33m\u001b[0m\u001b[1;33m\u001b[0m\u001b[0m\n",
      "\u001b[1;31mKeyboardInterrupt\u001b[0m: "
     ]
    }
   ],
   "source": [
    "### - train cell - ###\n",
    "for epoch in range(epochs):\n",
    "    correct_train = 0\n",
    "    total_train = 0\n",
    "    for i in range(folds-1):\n",
    "        test = train[d[-i]]\n",
    "        t_lab = labs[d[-i]]\n",
    "\n",
    "        train_i = d[:i] + d[i+1:]\n",
    "        train_set = train[list(itertools.chain.from_iterable(train_i))]\n",
    "        train_lab = labs[list(itertools.chain.from_iterable(train_i))]\n",
    "        \n",
    "        output_train = []\n",
    "        \n",
    "        correct = 0\n",
    "        \n",
    "        for i, im in enumerate(train_set):\n",
    "            outs = LabNet(im[None,:].unsqueeze(1)) #forward pass\n",
    "            loss_i = loss(outs, train_lab[i].unsqueeze(-1).long())\n",
    "            \n",
    "            all_tloss_e.append(loss_i) #append losses to graph\n",
    "            \n",
    "            output_train.append(outs)\n",
    "            \n",
    "            LabNet.zero_grad(set_to_none=True) # Reset Grads\n",
    "            \n",
    "            loss_i.backward()\n",
    "            \n",
    "            optimizer.step()\n",
    "            \n",
    "            #check if correct\n",
    "            guess = T.argmax(outs).item()\n",
    "            if guess == train_lab[i].item():\n",
    "                correct += 1\n",
    "    "
   ]
  },
  {
   "cell_type": "code",
   "execution_count": null,
   "id": "610a8ce5-06a9-4100-8eb0-62178bff2651",
   "metadata": {},
   "outputs": [],
   "source": []
  }
 ],
 "metadata": {
  "kernelspec": {
   "display_name": "Python 3 (ipykernel)",
   "language": "python",
   "name": "python3"
  },
  "language_info": {
   "codemirror_mode": {
    "name": "ipython",
    "version": 3
   },
   "file_extension": ".py",
   "mimetype": "text/x-python",
   "name": "python",
   "nbconvert_exporter": "python",
   "pygments_lexer": "ipython3",
   "version": "3.9.7"
  }
 },
 "nbformat": 4,
 "nbformat_minor": 5
}
